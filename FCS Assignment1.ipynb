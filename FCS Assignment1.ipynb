{
 "cells": [
  {
   "cell_type": "markdown",
   "id": "74c3766b-b5dc-4001-b461-ebe8154d955b",
   "metadata": {},
   "source": [
    "### Exercise 1"
   ]
  },
  {
   "cell_type": "code",
   "execution_count": 2,
   "id": "445f1247-a211-4f82-8650-c24fcf43cad3",
   "metadata": {},
   "outputs": [
    {
     "name": "stdout",
     "output_type": "stream",
     "text": [
      "Welcome to FCS!\n"
     ]
    }
   ],
   "source": [
    "# Input age of student\n",
    "age = int(input(\"What is your age\"))\n",
    "\n",
    "'''Check the criteria using a series of if else statements \n",
    "If age fits the criteria (>18), then input the country. \n",
    "If country is Lebanon, than ask for the hacker rank score.\n",
    "If all the criteria are met, print Welcome to FCS. \n",
    "If the age criterion is not met, then print insufficient age. \n",
    "If Country is not Lebanon, then print Foreign country. \n",
    "If hacker rank score is less than 110, then print insufficient score.'''\n",
    "\n",
    "if age > 18:\n",
    "    country = input(\"What is your country of residency\")\n",
    "    if country == \"Lebanon\":\n",
    "        score = int(input(\"What is your hacker rank score\"))\n",
    "        if score > 110:\n",
    "            print(\"Welcome to FCS!\")\n",
    "        else:\n",
    "            print(\"insufficient hacker rank score\")\n",
    "    else:\n",
    "        print(\"Foreign country\")\n",
    "else:\n",
    "    print(\"insufficient age\")\n",
    "    "
   ]
  },
  {
   "cell_type": "markdown",
   "id": "76da6d4b-f908-499f-84f1-157683967ac8",
   "metadata": {},
   "source": [
    "### Exercise 2"
   ]
  },
  {
   "cell_type": "code",
   "execution_count": 4,
   "id": "804d9ea2-1b5a-4305-be2f-751273809387",
   "metadata": {},
   "outputs": [
    {
     "name": "stdout",
     "output_type": "stream",
     "text": [
      "n is even\n"
     ]
    }
   ],
   "source": [
    "n = int(input(\"Please enter a number:\"))\n",
    "if n % 2 == 0:\n",
    "    print('n is even')\n",
    "else:\n",
    "    print('n is odd')"
   ]
  },
  {
   "cell_type": "code",
   "execution_count": null,
   "id": "cb9ae909-2888-46f5-9118-ce14ed154814",
   "metadata": {},
   "outputs": [],
   "source": []
  }
 ],
 "metadata": {
  "kernelspec": {
   "display_name": "Python 3 (ipykernel)",
   "language": "python",
   "name": "python3"
  },
  "language_info": {
   "codemirror_mode": {
    "name": "ipython",
    "version": 3
   },
   "file_extension": ".py",
   "mimetype": "text/x-python",
   "name": "python",
   "nbconvert_exporter": "python",
   "pygments_lexer": "ipython3",
   "version": "3.11.7"
  }
 },
 "nbformat": 4,
 "nbformat_minor": 5
}
